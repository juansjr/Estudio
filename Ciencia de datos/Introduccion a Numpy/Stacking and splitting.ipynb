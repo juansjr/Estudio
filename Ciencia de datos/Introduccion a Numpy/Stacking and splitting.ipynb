{
 "cells": [
  {
   "cell_type": "markdown",
   "metadata": {},
   "source": [
    "2D split and stack\n",
    "Splitting and stacking skills aren't just useful with 3D RGB arrays: they are excellent for subsetting and organizing data of any type and dimension!\n",
    "\n",
    "You'll now take a quick trip down memory lane to reorganize the monthly_sales array as a 3D array. Recall that the first dimension of monthly_sales is rows of a single month's sales across three industries, and the second dimension is columns of monthly sales data for a single industry.\n",
    "\n",
    "Your task is to split this data into quarterly sales data and stack the quarterly sales data so that the new third dimension represents the four 2D arrays of quarterly sales.numpy is loaded as np, and the monthly_sales array is available.\n",
    "\n",
    "Split monthly_sales into four arrays representing quarterly data across industries; print q1_sales.\n",
    "\n",
    "Stack the four quarterly sales arrays to create a 3D array, quarterly_sales, made up of the four quarterly 2D arrays in order from the first to last quarter.\n",
    "\n"
   ]
  },
  {
   "cell_type": "code",
   "execution_count": null,
   "metadata": {},
   "outputs": [],
   "source": [
    "# Split monthly_sales into quarterly data\n",
    "q1_sales, q2_sales, q3_sales, q4_sales = np.split(monthly_sales, 4)\n",
    "\n",
    "# Print q1_sales\n",
    "print(q1_sales)\n",
    "\n",
    "# Stack the four quarterly sales arrays\n",
    "quarterly_sales = np.stack([q1_sales, q2_sales, q3_sales, q4_sales], axis=0)\n",
    "print(quarterly_sales)"
   ]
  },
  {
   "cell_type": "markdown",
   "metadata": {},
   "source": [
    "Splitting RGB data\n",
    "Perhaps you'd like to better understand Monet's use of the color blue. Your task is to create a version of the Monet rgb_array that emphasizes parts of the painting that use lots of blue by making them even bluer! You'll perform the splitting portion of this task in this exercise and the stacking portion in the next.\n",
    "\n",
    "numpy is loaded as np, and the Monet rgb_array is available.\n",
    "\n",
    "Split the Monet rgb_array into red, green, and blue only pixel data; save the results as as red_array, green_array, and blue_array.\n",
    "\n",
    "Create emphasized_blue_array, which replaces blue_array values with 255 if they are higher than the mean value of blue_array; otherwise, the value remains the same.\n",
    "Print the .shape of emphasized_blue_array.\n",
    "\n",
    "Reshape emphasized_blue_array to remove the trailing third dimension; save as emphasized_blue_array_2D.\n",
    "\n"
   ]
  },
  {
   "cell_type": "code",
   "execution_count": null,
   "metadata": {},
   "outputs": [],
   "source": [
    "# Split rgb_array into red, green, and blue arrays\n",
    "red_array, green_array, blue_array = np.split(rgb_array, 3, axis=2)\n",
    "\n",
    "# Create emphasized_blue_array\n",
    "emphasized_blue_array = np.where(blue_array > blue_array.mean(), 255, blue_array)\n",
    "\n",
    "# Print the shape of emphasized_blue_array\n",
    "print(emphasized_blue_array.shape)\n",
    "\n",
    "# Remove the trailing dimension from emphasized_blue_array\n",
    "emphasized_blue_array_2D = emphasized_blue_array.reshape((675, 844))"
   ]
  },
  {
   "cell_type": "markdown",
   "metadata": {},
   "source": [
    "Stacking RGB data\n",
    "Now you'll combine red_array, green_array, and emphasized_blue_array_2D to see what Monet's painting looks like with the blues emphasized!\n",
    "\n",
    "numpy is loaded as np, and the red_array, green_array, blue_array and emphasized_blue_array_2D objects that you created in the last exercise are available.\n",
    "\n",
    "Print the shapes of blue_array and emphasized_blue_array_2D.\n",
    "\n",
    "Reshape red_array and green_array so that they can be stacked with emphasized_blue_array_2D.\n",
    "\n",
    "Stack red_array_2D, green_array_2D, and emphasized_blue_array_2D together (in that order) into a 3D array called emphasized_blue_monet.\n",
    "\n"
   ]
  },
  {
   "cell_type": "code",
   "execution_count": null,
   "metadata": {},
   "outputs": [],
   "source": [
    "# Print the shapes of blue_array and emphasized_blue_array_2D\n",
    "print(blue_array.shape, emphasized_blue_array_2D.shape)\n",
    "\n",
    "# Reshape red_array and green_array\n",
    "red_array_2D = red_array.reshape((675, 844))\n",
    "green_array_2D = green_array.reshape((675, 844))\n",
    "\n",
    "# Stack red_array_2D, green_array_2D, and emphasized_blue_array_2D\n",
    "emphasized_blue_monet = np.stack([red_array_2D, green_array_2D, emphasized_blue_array_2D], axis=2)\n",
    "plt.imshow(emphasized_blue_monet)\n",
    "plt.show()"
   ]
  }
 ],
 "metadata": {
  "kernelspec": {
   "display_name": "Python 3.9.12 ('datascience')",
   "language": "python",
   "name": "python3"
  },
  "language_info": {
   "name": "python",
   "version": "3.9.12"
  },
  "orig_nbformat": 4,
  "vscode": {
   "interpreter": {
    "hash": "e04d4f7a696db22e1d53cc1b293e8a4661921c22bda6d11b1804af3440f693ee"
   }
  }
 },
 "nbformat": 4,
 "nbformat_minor": 2
}
