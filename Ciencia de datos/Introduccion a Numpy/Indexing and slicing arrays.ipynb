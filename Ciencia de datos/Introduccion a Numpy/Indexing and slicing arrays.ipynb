{
 "cells": [
  {
   "cell_type": "markdown",
   "metadata": {},
   "source": [
    "Slicing and indexing trees\n",
    "Imagine you are a researcher working with data from New York City's tree census. Each row of the tree_census 2D array lists information for a different tree: the tree ID, block ID, trunk diameter, and stump diameter in that order. Living trees do not have stump diameters, which explains why there are so many zeros in that column. Column order is important because NumPy does not have column names! The first and last three rows of tree_census are shown below.\n",
    "\n",
    "array([[     3, 501451,     24,      0],\n",
    "       [     4, 501451,     20,      0],\n",
    "       [     7, 501911,      3,      0],\n",
    "       ...,\n",
    "       [  1198, 227387,     11,      0],\n",
    "       [  1199, 227387,     11,      0],\n",
    "       [  1210, 227386,      6,      0]])\n",
    "In this exercise, you'll be working specifically with the second column, representing block IDs: your research requires you to select specific city blocks for further analysis using NumPy slicing and indexing. numpy is loaded as np, and the tree_census 2D array is available.\n",
    "\n",
    "Select all rows of data from the second column, representing block IDs; save the resulting array as block_ids.\n",
    "Print the first five block IDs from block_ids.\n",
    "\n"
   ]
  },
  {
   "cell_type": "code",
   "execution_count": null,
   "metadata": {},
   "outputs": [],
   "source": [
    "# Select all rows of block ID data from the second column\n",
    "block_ids = tree_census[:,1]\n",
    "\n",
    "# Print the first five block_ids\n",
    "print(block_ids[:5])"
   ]
  },
  {
   "cell_type": "markdown",
   "metadata": {},
   "source": [
    "Select the tenth block ID from block_ids, saving the result as tenth_block_id."
   ]
  },
  {
   "cell_type": "code",
   "execution_count": 1,
   "metadata": {},
   "outputs": [
    {
     "ename": "NameError",
     "evalue": "name 'block_ids' is not defined",
     "output_type": "error",
     "traceback": [
      "\u001b[1;31m---------------------------------------------------------------------------\u001b[0m",
      "\u001b[1;31mNameError\u001b[0m                                 Traceback (most recent call last)",
      "\u001b[1;32mc:\\Users\\juan_\\OneDrive\\Escritorio\\Personal\\Ciencia de datos\\Estudio\\Ciencia de datos\\Introduccion a Numpy\\Indexing and slicing arrays.ipynb Celda 4\u001b[0m in \u001b[0;36m<cell line: 1>\u001b[1;34m()\u001b[0m\n\u001b[1;32m----> <a href='vscode-notebook-cell:/c%3A/Users/juan_/OneDrive/Escritorio/Personal/Ciencia%20de%20datos/Estudio/Ciencia%20de%20datos/Introduccion%20a%20Numpy/Indexing%20and%20slicing%20arrays.ipynb#W5sZmlsZQ%3D%3D?line=0'>1</a>\u001b[0m tenth_block_id \u001b[39m=\u001b[39m block_ids[\u001b[39m11\u001b[39m]\n\u001b[0;32m      <a href='vscode-notebook-cell:/c%3A/Users/juan_/OneDrive/Escritorio/Personal/Ciencia%20de%20datos/Estudio/Ciencia%20de%20datos/Introduccion%20a%20Numpy/Indexing%20and%20slicing%20arrays.ipynb#W5sZmlsZQ%3D%3D?line=1'>2</a>\u001b[0m \u001b[39mprint\u001b[39m(tenth_block_id)\n",
      "\u001b[1;31mNameError\u001b[0m: name 'block_ids' is not defined"
     ]
    }
   ],
   "source": [
    "tenth_block_id = block_ids[11]\n",
    "print(tenth_block_id)"
   ]
  },
  {
   "cell_type": "markdown",
   "metadata": {},
   "source": [
    "Select five consecutive block IDs from block_ids, starting with the tenth ID, and save as block_id_slice"
   ]
  },
  {
   "cell_type": "code",
   "execution_count": null,
   "metadata": {},
   "outputs": [],
   "source": [
    "# Select five block IDs from block_ids starting with the tenth ID\n",
    "block_id_slice = block_ids[11:16]\n",
    "print(block_id_slice)"
   ]
  }
 ],
 "metadata": {
  "kernelspec": {
   "display_name": "Python 3.9.12 ('datascience')",
   "language": "python",
   "name": "python3"
  },
  "language_info": {
   "codemirror_mode": {
    "name": "ipython",
    "version": 3
   },
   "file_extension": ".py",
   "mimetype": "text/x-python",
   "name": "python",
   "nbconvert_exporter": "python",
   "pygments_lexer": "ipython3",
   "version": "3.9.12"
  },
  "orig_nbformat": 4,
  "vscode": {
   "interpreter": {
    "hash": "e04d4f7a696db22e1d53cc1b293e8a4661921c22bda6d11b1804af3440f693ee"
   }
  }
 },
 "nbformat": 4,
 "nbformat_minor": 2
}
