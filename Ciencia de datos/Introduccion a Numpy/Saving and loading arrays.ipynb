{
 "cells": [
  {
   "cell_type": "markdown",
   "metadata": {},
   "source": [
    "Loading .npy files\n",
    "The exercises for this chapter will use a NumPy array holding an image in RGB format. Which image? You'll have to load the array from the mystery_image.npy file to find out!\n",
    "\n",
    "numpy is loaded as np, and mystery_image.npy is available.\n",
    "\n",
    "Instructions\n",
    "100 XP\n",
    "Load the mystery_image.npy file using the alias f, saving the contents as an array called rgb_array."
   ]
  },
  {
   "cell_type": "code",
   "execution_count": null,
   "metadata": {},
   "outputs": [],
   "source": [
    "# Load the mystery_image.npy file \n",
    "with open('mystery_image.npy', 'rb') as f:\n",
    "    rgb_array = np.load(f)\n",
    "\n",
    "plt.imshow(rgb_array)\n",
    "plt.show()"
   ]
  },
  {
   "cell_type": "markdown",
   "metadata": {},
   "source": [
    "Update and save\n",
    "Perhaps you are training a machine learning model to recognize ocean scenes. You'd like the model to understand that oceans are not only associated with bright, summery colors, so you're careful to include images of oceans in bad whether or evening light as well. You may have to manually transform some images in order to balance the data, so your task is to darken the Monet ocean scene rgb_array.\n",
    "\n",
    "Recall from the video that white is associated with the maximum RGB value of 255, while darker colors are associated with lower values. numpy is loaded as np, and the 3D Monet rgb_array that you loaded in the last exercise is available.\n",
    "\n",
    "Instructions 1/3\n",
    "35 XP\n",
    "2\n",
    "3\n",
    "Reduce every value in rgb_array by 50 percent, saving the resulting array as darker_rgb_array."
   ]
  },
  {
   "cell_type": "code",
   "execution_count": null,
   "metadata": {},
   "outputs": [],
   "source": [
    "# Reduce every value in rgb_array by 50 percent\n",
    "darker_rgb_array = rgb_array/2"
   ]
  },
  {
   "cell_type": "markdown",
   "metadata": {},
   "source": [
    "Since RGB values must be integers, convert darker_rgb_array into an array of integers called darker_rgb_int_array so that it can be plotted."
   ]
  },
  {
   "cell_type": "code",
   "execution_count": null,
   "metadata": {},
   "outputs": [],
   "source": [
    "# Convert darker_rgb_array into an array of integers\n",
    "darker_rgb_int_array = darker_rgb_array.astype(int)\n",
    "plt.imshow(darker_rgb_int_array)\n",
    "plt.show()"
   ]
  },
  {
   "cell_type": "markdown",
   "metadata": {},
   "source": [
    "Save darker_rgb_int_array as an .npy file called darker_monet.npy using the alias f."
   ]
  },
  {
   "cell_type": "code",
   "execution_count": null,
   "metadata": {},
   "outputs": [],
   "source": [
    "with open('darker_monet.npy','wb') as f:\n",
    "    np.save(f,darker_rgb_int_array)"
   ]
  }
 ],
 "metadata": {
  "kernelspec": {
   "display_name": "Python 3.9.12 ('datascience')",
   "language": "python",
   "name": "python3"
  },
  "language_info": {
   "name": "python",
   "version": "3.9.12"
  },
  "orig_nbformat": 4,
  "vscode": {
   "interpreter": {
    "hash": "e04d4f7a696db22e1d53cc1b293e8a4661921c22bda6d11b1804af3440f693ee"
   }
  }
 },
 "nbformat": 4,
 "nbformat_minor": 2
}
