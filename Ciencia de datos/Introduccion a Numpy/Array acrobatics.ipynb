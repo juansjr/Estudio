{
 "cells": [
  {
   "cell_type": "markdown",
   "metadata": {},
   "source": [
    "Augmenting Monet\n",
    "Perhaps you're still working on that machine learning model that identifies ocean scenes in paintings. You'd like to generate a few extra images to augment your existing data. After all, a human can tell that a painting is of an ocean even if the painting is upside-down: why shouldn't your machine learning model?\n",
    "\n",
    "numpy is loaded as np, and the 3D Monet rgb_array is available.\n",
    "\n",
    "Flip rgb_array so that it is the mirror image of the original, with the ocean on the right and grassy knoll on the left.\n"
   ]
  },
  {
   "cell_type": "code",
   "execution_count": null,
   "metadata": {},
   "outputs": [],
   "source": [
    "# Flip rgb_array so that it is the mirror image of the original\n",
    "mirrored_monet = np.flip(rgb_array, axis=1)\n",
    "plt.imshow(mirrored_monet)\n",
    "plt.show()"
   ]
  },
  {
   "cell_type": "markdown",
   "metadata": {},
   "source": [
    "Transposing your masterpiece\n",
    "You've learned that transposing an array reverses the order of the array's axes. To transpose the axes in a different order, you can pass the desired axes order as arguments. You'll practice with the 3D Monet rgb_array, loaded for you. numpy has been imported as np.\n",
    "\n",
    "Instructions\n",
    "100 XP\n",
    "Transpose the 3-D rgb_array so that the image appears rotated 90 degrees left and as a mirror image of itself."
   ]
  },
  {
   "cell_type": "code",
   "execution_count": null,
   "metadata": {},
   "outputs": [],
   "source": [
    "# Transpose rgb_array\n",
    "transposed_rgb = np.transpose(rgb_array, axes=(1,0,2))\n",
    "plt.imshow(transposed_rgb)\n",
    "plt.show()\n"
   ]
  }
 ],
 "metadata": {
  "kernelspec": {
   "display_name": "Python 3.9.12 ('datascience')",
   "language": "python",
   "name": "python3"
  },
  "language_info": {
   "name": "python",
   "version": "3.9.12"
  },
  "orig_nbformat": 4,
  "vscode": {
   "interpreter": {
    "hash": "e04d4f7a696db22e1d53cc1b293e8a4661921c22bda6d11b1804af3440f693ee"
   }
  }
 },
 "nbformat": 4,
 "nbformat_minor": 2
}
