{
 "cells": [
  {
   "cell_type": "markdown",
   "metadata": {},
   "source": [
    "Tax calculations\n",
    "It's possible to use vectorized operations to calculate taxes for the liquor, restaurant, and department store industries! We'll simplify the tax calculation process here and assume that government collects 5% of all sales across these industries as tax revenue.\n",
    "\n",
    "Your task is to calculate the tax owed by each industry related to each month's sales. numpy is loaded for you as np, and the monthly_sales array is available.\n",
    "\n",
    "Create an array called tax_collected which calculates tax collected by industry and month by multiplying each element in monthly_sales by 0.05.\n",
    "\n",
    "Create an array that keeps track of total_tax_and_revenue collected by each industry and month by adding each element in tax_collected with its corresponding element in monthly_sales.\n",
    "\n"
   ]
  },
  {
   "cell_type": "code",
   "execution_count": null,
   "metadata": {},
   "outputs": [],
   "source": [
    "# Create an array of tax collected by industry and month\n",
    "tax_collected = monthly_sales * 0.05\n",
    "print(tax_collected)\n",
    "\n",
    "# Create an array of sales revenue plus tax collected by industry and month\n",
    "total_tax_and_revenue = monthly_sales + tax_collected \n",
    "print(total_tax_and_revenue)"
   ]
  },
  {
   "cell_type": "markdown",
   "metadata": {},
   "source": [
    "Projecting sales\n",
    "You'd like to be able to plan for next year's operations by projecting what sales will be, and you've gathered multipliers specific to each month and industry. These multipliers are saved in an array called monthly_industry_multipliers. For example, the multiplier at monthly_industry_multipliers[0, 0] of 0.98 means that the liquor store industry is projected to have 98% of this January's sales in January of next year.\n",
    "\n",
    "array([[0.98, 1.02, 1.  ],\n",
    "       [1.00, 1.01, 0.97],\n",
    "       [1.06, 1.03, 0.98],\n",
    "       [1.08, 1.01, 0.98],\n",
    "       [1.08, 0.98, 0.98],\n",
    "       [1.1 , 0.99, 0.99],\n",
    "       [1.12, 1.01, 1.  ],\n",
    "       [1.1 , 1.02, 1.  ],\n",
    "       [1.11, 1.01, 1.01],\n",
    "       [1.08, 0.99, 0.97],\n",
    "       [1.09, 1.  , 1.02],\n",
    "       [1.13, 1.03, 1.02]])\n",
    "numpy is loaded for you as np, and the monthly_sales and monthly_industry_multipliers arrays are available. The monthly_sales columns in order refer to liquor store, restaurant, and department store sales.\n",
    "\n",
    "Create an array called projected_monthly_sales which contains projected sales for all three industries based on the multipliers you have gathered.\n",
    "\n",
    "Create a graph that plots two lines: current liquor store sales by month and projected liquor store sales by month; months will be represented by an array of the numbers one through twelve.\n",
    "\n",
    "\n",
    "\n",
    "\n",
    "\n"
   ]
  },
  {
   "cell_type": "code",
   "execution_count": null,
   "metadata": {},
   "outputs": [],
   "source": [
    "# Create an array of monthly projected sales for all industries\n",
    "projected_monthly_sales = monthly_sales * monthly_industry_multipliers\n",
    "print(projected_monthly_sales)\n",
    "\n",
    "# Graph current liquor store sales and projected liquor store sales by month\n",
    "plt.plot(np.arange(1,13), monthly_sales[:,0], label=\"Current liquor store sales\")\n",
    "plt.plot(np.arange(1,13), projected_monthly_sales[:,0], label=\"Projected liquor store sales\")\n",
    "plt.legend()\n",
    "plt.show()\n"
   ]
  },
  {
   "cell_type": "markdown",
   "metadata": {},
   "source": [
    "Vectorizing .upper()\n",
    "There are many situations where you might want to use Python methods and functions on array elements in NumPy. You can always write a for loop to do this, but vectorized operations are much faster and more efficient, so consider using np.vectorize()!\n",
    "\n",
    "You've got an array called names which contains first and last names:\n",
    "\n",
    "names = np.array([[\"Izzy\", \"Monica\", \"Marvin\"],\n",
    "                  [\"Weber\", \"Patel\", \"Hernandez\"]])\n",
    "You'd like to use one of the Python methods you learned on DataCamp, .upper(), to make all the letters of every name in the array uppercase. As a reminder, .upper() is a string method, meaning that it must be called on an instance of a string: str.upper().\n",
    "\n",
    "Your task is to vectorize this Python method. numpy is loaded for you as np, and the names array is available.\n",
    "\n",
    "Create a vectorized function called vectorized_upper from the Python .upper() string method.\n",
    "\n",
    "Apply vectorized_upper() to the names array and save the resulting array as uppercase_names."
   ]
  },
  {
   "cell_type": "code",
   "execution_count": null,
   "metadata": {},
   "outputs": [],
   "source": [
    "# Vectorize the .upper() string method\n",
    "vectorized_upper = np.vectorize(str.upper)\n",
    "\n",
    "# Apply vectorized_upper to the names array\n",
    "uppercase_names = vectorized_upper(names)\n",
    "print(uppercase_names)"
   ]
  },
  {
   "cell_type": "markdown",
   "metadata": {},
   "source": [
    "Broadcasting across rows\n",
    "In the last set of exercises, you used monthly_industry_multipliers, to create sales predictions. Recall that monthly_industry_multipliers looks like this:\n",
    "\n",
    "array([[0.98, 1.02, 1.  ],\n",
    "       [1.00, 1.01, 0.97],\n",
    "       [1.06, 1.03, 0.98],\n",
    "       [1.08, 1.01, 0.98],\n",
    "       [1.08, 0.98, 0.98],\n",
    "       [1.1 , 0.99, 0.99],\n",
    "       [1.12, 1.01, 1.  ],\n",
    "       [1.1 , 1.02, 1.  ],\n",
    "       [1.11, 1.01, 1.01],\n",
    "       [1.08, 0.99, 0.97],\n",
    "       [1.09, 1.  , 1.02],\n",
    "       [1.13, 1.03, 1.02]])\n",
    "Assume you're not comfortable being so specific with your estimates. Rather, you'd like to use monthly_industry_multipliers to find a single average multiplier for each industry. Then you'll use that multiplier to project next year's sales.\n",
    "\n",
    "numpy is loaded for you as np, and the monthly_sales and monthly_industry_multipliers arrays are available. The monthly_sales columns in order refer to liquor store, restaurant, and department store sales.\n",
    "\n",
    "Find the mean sales projection multiplier for each industry; save in an array called mean_multipliers\n",
    "\n",
    "Print the shapes of mean_multipliers and monthly_sales to ensure they are suitable for broadcasting.\n",
    "\n",
    "Multiply each monthly sales value by the mean multiplier you found for that industry; save in an array called projected_sales."
   ]
  },
  {
   "cell_type": "code",
   "execution_count": null,
   "metadata": {},
   "outputs": [],
   "source": [
    "# Find the mean sales projection multiplier for each industry\n",
    "mean_multipliers = monthly_industry_multipliers.mean(axis=0)\n",
    "print(mean_multipliers)\n",
    "\n",
    "# Print the shapes of mean_multipliers and monthly_sales\n",
    "print(mean_multipliers.shape, monthly_sales.shape)\n",
    "\n",
    "# Multiply each value by the multiplier for that industry\n",
    "projected_sales = monthly_sales * mean_multipliers\n",
    "print(projected_sales)"
   ]
  }
 ],
 "metadata": {
  "language_info": {
   "name": "python"
  },
  "orig_nbformat": 4
 },
 "nbformat": 4,
 "nbformat_minor": 2
}
