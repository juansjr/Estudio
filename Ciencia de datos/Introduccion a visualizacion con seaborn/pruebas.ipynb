{
 "cells": [
  {
   "cell_type": "markdown",
   "metadata": {},
   "source": [
    "You work for a second hand car sales company, and they want to know the relationship between the age and the value so that they can estimate the best price to sell their cars at. Create a plot to show the relationship, identifying the miles per gallon (mpg) by changing the size of each point. The valuation data is previewed below."
   ]
  },
  {
   "cell_type": "code",
   "execution_count": null,
   "metadata": {},
   "outputs": [],
   "source": [
    "sns.scatterplot(x = \"age\", y = \"value\", size = \"mpg\", data = valuation)"
   ]
  }
 ],
 "metadata": {
  "kernelspec": {
   "display_name": "Python 3.9.12 ('datascience')",
   "language": "python",
   "name": "python3"
  },
  "language_info": {
   "name": "python",
   "version": "3.9.12"
  },
  "orig_nbformat": 4,
  "vscode": {
   "interpreter": {
    "hash": "e04d4f7a696db22e1d53cc1b293e8a4661921c22bda6d11b1804af3440f693ee"
   }
  }
 },
 "nbformat": 4,
 "nbformat_minor": 2
}
